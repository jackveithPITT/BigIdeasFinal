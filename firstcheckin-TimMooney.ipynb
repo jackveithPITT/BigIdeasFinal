{
 "cells": [
  {
   "cell_type": "markdown",
   "id": "f5ac5561-c8a7-4584-a38e-c107ccbac69f",
   "metadata": {},
   "source": [
    "# https://data.wprdc.org/dataset/playground-equipment/resource/e39ef76e-0a11-47c8-a86f-a37f55db7a2b"
   ]
  },
  {
   "cell_type": "code",
   "execution_count": 2,
   "id": "fd415275-aac7-4b9e-9660-92f03cfcb79b",
   "metadata": {},
   "outputs": [],
   "source": [
    "import pandas as pd\n",
    "import numpy as np\n",
    "%matplotlib inline\n",
    "import matplotlib.pyplot as plt"
   ]
  },
  {
   "cell_type": "code",
   "execution_count": 3,
   "id": "0032d28a-80e2-4b9d-b523-50f0beee0b10",
   "metadata": {},
   "outputs": [],
   "source": [
    "play = pd.read_csv(\"pghplayground.csv\",index_col=\"id\", parse_dates=True)"
   ]
  },
  {
   "cell_type": "code",
   "execution_count": 4,
   "id": "855605b5-857c-46f9-b474-6376da45340a",
   "metadata": {},
   "outputs": [
    {
     "data": {
      "text/plain": [
       "Squirrel Hill South    32\n",
       "East Liberty           26\n",
       "Beechview              21\n",
       "Allegheny Center       15\n",
       "South Side Slopes      14\n",
       "                       ..\n",
       "Bluff                   2\n",
       "East Carnegie           2\n",
       "Central Oakland         2\n",
       "West Oakland            1\n",
       "Strip District          1\n",
       "Name: neighborhood, Length: 68, dtype: int64"
      ]
     },
     "execution_count": 4,
     "metadata": {},
     "output_type": "execute_result"
    }
   ],
   "source": [
    "play['neighborhood'].value_counts() \n",
    "#finding the top 5"
   ]
  },
  {
   "cell_type": "code",
   "execution_count": 5,
   "id": "0579f63b-4ab2-418e-90fa-0e2bda6bbfde",
   "metadata": {},
   "outputs": [],
   "source": [
    "index = ['Squirrel Hill South', 'East Liberty', 'Beechview', 'Allegheny Center', 'South Side Slopes']\n",
    "numplay = [32, 26, 21, 15, 14]"
   ]
  },
  {
   "cell_type": "code",
   "execution_count": 7,
   "id": "3b2bb547-454d-48fb-aa7d-3afad252170b",
   "metadata": {},
   "outputs": [
    {
     "data": {
      "text/plain": [
       "<AxesSubplot:>"
      ]
     },
     "execution_count": 7,
     "metadata": {},
     "output_type": "execute_result"
    },
    {
     "data": {
      "image/png": "[encoded data removed]",
      "text/plain": [
       "<Figure size 432x288 with 1 Axes>"
      ]
     },
     "metadata": {
      "needs_background": "light"
     },
     "output_type": "display_data"
    }
   ],
   "source": [
    "goodones = pd.DataFrame({'Playgrounds': numplay}, index=index) \n",
    "goodones.plot.bar()\n",
    "#displaying the neighborhoods"
   ]
  },
  {
   "cell_type": "code",
   "execution_count": null,
   "id": "3f5be586-d4d4-489a-96c3-86f1ffb517d1",
   "metadata": {},
   "outputs": [],
   "source": []
  },
  {
   "cell_type": "code",
   "execution_count": null,
   "id": "6c7edc9b-ad6c-4e7b-9941-d53947aa7ed7",
   "metadata": {},
   "outputs": [],
   "source": []
  }
 ],
 "metadata": {
  "kernelspec": {
   "display_name": "Python 3",
   "language": "python",
   "name": "python3"
  },
  "language_info": {
   "codemirror_mode": {
    "name": "ipython",
    "version": 3
   },
   "file_extension": ".py",
   "mimetype": "text/x-python",
   "name": "python",
   "nbconvert_exporter": "python",
   "pygments_lexer": "ipython3",
   "version": "3.8.8"
  }
 },
 "nbformat": 4,
 "nbformat_minor": 5
}
