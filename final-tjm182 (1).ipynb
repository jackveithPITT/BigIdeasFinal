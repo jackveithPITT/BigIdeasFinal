{
 "cells": [
  {
   "cell_type": "markdown",
   "id": "f5ac5561-c8a7-4584-a38e-c107ccbac69f",
   "metadata": {},
   "source": [
    "# Playgrounds\n",
    "\n",
    "https://data.wprdc.org/dataset/playground-equipment/resource/e39ef76e-0a11-47c8-a86f-a37f55db7a2b\n",
    "\n",
    "# Population\n",
    "\n",
    "https://data.wprdc.org/dataset/pittsburgh-american-community-survey-2015-miscellaneous-data/resource/82f29015-6905-4b1c-8300-afe9bb2231b3"
   ]
  },
  {
   "cell_type": "code",
   "execution_count": 1,
   "id": "fd415275-aac7-4b9e-9660-92f03cfcb79b",
   "metadata": {},
   "outputs": [],
   "source": [
    "import pandas as pd\n",
    "import numpy as np\n",
    "%matplotlib inline\n",
    "import matplotlib.pyplot as plt\n",
    "#import stuff"
   ]
  },
  {
   "cell_type": "code",
   "execution_count": 2,
   "id": "0032d28a-80e2-4b9d-b523-50f0beee0b10",
   "metadata": {},
   "outputs": [],
   "source": [
    "play = pd.read_csv(\"pghplayground.csv\",index_col=\"id\", parse_dates=True)\n",
    "ppl = pd.read_csv(\"total-population.csv\")\n",
    "#initialize the datasets"
   ]
  },
  {
   "cell_type": "code",
   "execution_count": 3,
   "id": "855605b5-857c-46f9-b474-6376da45340a",
   "metadata": {},
   "outputs": [
    {
     "data": {
      "text/plain": [
       "Squirrel Hill South         32\n",
       "East Liberty                26\n",
       "Beechview                   21\n",
       "Allegheny Center            15\n",
       "South Side Slopes           14\n",
       "Hazelwood                   13\n",
       "Sheraden                    13\n",
       "Elliott                     11\n",
       "Mount Washington            10\n",
       "Beltzhoover                 10\n",
       "Highland Park               10\n",
       "Squirrel Hill North         10\n",
       "South Oakland                9\n",
       "Garfield                     9\n",
       "Regent Square                9\n",
       "Lincoln Place                9\n",
       "Crawford-Roberts             8\n",
       "Fineview                     8\n",
       "Brighton Heights             8\n",
       "Greenfield                   7\n",
       "Bloomfield                   7\n",
       "Troy Hill                    7\n",
       "Carrick                      7\n",
       "Brookline                    7\n",
       "Manchester                   7\n",
       "Swisshelm Park               6\n",
       "Perry North                  6\n",
       "Banksville                   6\n",
       "Lincoln-Lemington-Belmar     6\n",
       "Shadyside                    5\n",
       "Marshall-Shadeland           5\n",
       "Morningside                  5\n",
       "Upper Lawrenceville          5\n",
       "Crafton Heights              5\n",
       "Upper Hill                   5\n",
       "South Side Flats             5\n",
       "Windgap                      5\n",
       "New Homestead                5\n",
       "Fairywood                    4\n",
       "Allentown                    4\n",
       "Homewood North               4\n",
       "Terrace Village              4\n",
       "Homewood West                4\n",
       "Oakwood                      4\n",
       "Duquesne Heights             4\n",
       "Central Northside            4\n",
       "Polish Hill                  4\n",
       "Point Breeze North           3\n",
       "Central Lawrenceville        3\n",
       "Spring Garden                3\n",
       "Perry South                  3\n",
       "Stanton Heights              3\n",
       "Larimer                      3\n",
       "Bedford Dwellings            3\n",
       "West End                     3\n",
       "East Allegheny               3\n",
       "Bon Air                      3\n",
       "Hays                         3\n",
       "Middle Hill                  3\n",
       "Spring Hill-City View        3\n",
       "Lower Lawrenceville          2\n",
       "East Carnegie                2\n",
       "Westwood                     2\n",
       "Bluff                        2\n",
       "Esplen                       2\n",
       "Central Oakland              2\n",
       "West Oakland                 1\n",
       "Strip District               1\n",
       "Name: neighborhood, dtype: int64"
      ]
     },
     "execution_count": 3,
     "metadata": {},
     "output_type": "execute_result"
    }
   ],
   "source": [
    "pd.set_option(\"display.max_rows\", None)\n",
    "play['neighborhood'].value_counts()\n",
    "#finding the ones with at least 10 parks for variety"
   ]
  },
  {
   "cell_type": "code",
   "execution_count": 4,
   "id": "6c7edc9b-ad6c-4e7b-9941-d53947aa7ed7",
   "metadata": {},
   "outputs": [
    {
     "data": {
      "text/html": [
       "<div>\n",
       "<style scoped>\n",
       "    .dataframe tbody tr th:only-of-type {\n",
       "        vertical-align: middle;\n",
       "    }\n",
       "\n",
       "    .dataframe tbody tr th {\n",
       "        vertical-align: top;\n",
       "    }\n",
       "\n",
       "    .dataframe thead th {\n",
       "        text-align: right;\n",
       "    }\n",
       "</style>\n",
       "<table border=\"1\" class=\"dataframe\">\n",
       "  <thead>\n",
       "    <tr style=\"text-align: right;\">\n",
       "      <th></th>\n",
       "      <th>Neighborhood</th>\n",
       "      <th>Id</th>\n",
       "      <th>Estimate; Total</th>\n",
       "      <th>Margin of Error; Total</th>\n",
       "    </tr>\n",
       "  </thead>\n",
       "  <tbody>\n",
       "    <tr>\n",
       "      <th>77</th>\n",
       "      <td>Squirrel Hill South</td>\n",
       "      <td>78</td>\n",
       "      <td>16042.0</td>\n",
       "      <td>889.712313</td>\n",
       "    </tr>\n",
       "    <tr>\n",
       "      <th>68</th>\n",
       "      <td>Shadyside</td>\n",
       "      <td>69</td>\n",
       "      <td>13562.0</td>\n",
       "      <td>861.984919</td>\n",
       "    </tr>\n",
       "    <tr>\n",
       "      <th>13</th>\n",
       "      <td>Brookline</td>\n",
       "      <td>14</td>\n",
       "      <td>13160.0</td>\n",
       "      <td>943.065215</td>\n",
       "    </tr>\n",
       "    <tr>\n",
       "      <th>76</th>\n",
       "      <td>Squirrel Hill North</td>\n",
       "      <td>77</td>\n",
       "      <td>11336.0</td>\n",
       "      <td>767.783173</td>\n",
       "    </tr>\n",
       "    <tr>\n",
       "      <th>15</th>\n",
       "      <td>Carrick</td>\n",
       "      <td>16</td>\n",
       "      <td>10122.0</td>\n",
       "      <td>826.666196</td>\n",
       "    </tr>\n",
       "    <tr>\n",
       "      <th>56</th>\n",
       "      <td>North Oakland</td>\n",
       "      <td>57</td>\n",
       "      <td>9602.0</td>\n",
       "      <td>628.113047</td>\n",
       "    </tr>\n",
       "    <tr>\n",
       "      <th>53</th>\n",
       "      <td>Mount Washington</td>\n",
       "      <td>54</td>\n",
       "      <td>8743.0</td>\n",
       "      <td>613.158218</td>\n",
       "    </tr>\n",
       "    <tr>\n",
       "      <th>9</th>\n",
       "      <td>Bloomfield</td>\n",
       "      <td>10</td>\n",
       "      <td>8669.0</td>\n",
       "      <td>491.348145</td>\n",
       "    </tr>\n",
       "    <tr>\n",
       "      <th>7</th>\n",
       "      <td>Beechview</td>\n",
       "      <td>8</td>\n",
       "      <td>8078.0</td>\n",
       "      <td>719.658252</td>\n",
       "    </tr>\n",
       "    <tr>\n",
       "      <th>36</th>\n",
       "      <td>Greenfield</td>\n",
       "      <td>37</td>\n",
       "      <td>7690.0</td>\n",
       "      <td>699.464795</td>\n",
       "    </tr>\n",
       "    <tr>\n",
       "      <th>12</th>\n",
       "      <td>Brighton Heights</td>\n",
       "      <td>13</td>\n",
       "      <td>7421.0</td>\n",
       "      <td>560.572921</td>\n",
       "    </tr>\n",
       "    <tr>\n",
       "      <th>39</th>\n",
       "      <td>Highland Park</td>\n",
       "      <td>40</td>\n",
       "      <td>6810.0</td>\n",
       "      <td>870.084479</td>\n",
       "    </tr>\n",
       "    <tr>\n",
       "      <th>10</th>\n",
       "      <td>Bluff</td>\n",
       "      <td>11</td>\n",
       "      <td>6294.0</td>\n",
       "      <td>395.761292</td>\n",
       "    </tr>\n",
       "    <tr>\n",
       "      <th>72</th>\n",
       "      <td>South Side Flats</td>\n",
       "      <td>73</td>\n",
       "      <td>6292.0</td>\n",
       "      <td>747.592135</td>\n",
       "    </tr>\n",
       "    <tr>\n",
       "      <th>49</th>\n",
       "      <td>Marshall-Shadeland</td>\n",
       "      <td>50</td>\n",
       "      <td>6195.0</td>\n",
       "      <td>737.094295</td>\n",
       "    </tr>\n",
       "  </tbody>\n",
       "</table>\n",
       "</div>"
      ],
      "text/plain": [
       "           Neighborhood  Id  Estimate; Total  Margin of Error; Total\n",
       "77  Squirrel Hill South  78          16042.0              889.712313\n",
       "68            Shadyside  69          13562.0              861.984919\n",
       "13            Brookline  14          13160.0              943.065215\n",
       "76  Squirrel Hill North  77          11336.0              767.783173\n",
       "15              Carrick  16          10122.0              826.666196\n",
       "56        North Oakland  57           9602.0              628.113047\n",
       "53     Mount Washington  54           8743.0              613.158218\n",
       "9            Bloomfield  10           8669.0              491.348145\n",
       "7             Beechview   8           8078.0              719.658252\n",
       "36           Greenfield  37           7690.0              699.464795\n",
       "12     Brighton Heights  13           7421.0              560.572921\n",
       "39        Highland Park  40           6810.0              870.084479\n",
       "10                Bluff  11           6294.0              395.761292\n",
       "72     South Side Flats  73           6292.0              747.592135\n",
       "49   Marshall-Shadeland  50           6195.0              737.094295"
      ]
     },
     "execution_count": 4,
     "metadata": {},
     "output_type": "execute_result"
    }
   ],
   "source": [
    "ppl.nlargest(15,['Estimate; Total'])\n",
    "#Look at the big neighborhoods "
   ]
  },
  {
   "cell_type": "code",
   "execution_count": 5,
   "id": "0579f63b-4ab2-418e-90fa-0e2bda6bbfde",
   "metadata": {},
   "outputs": [],
   "source": [
    "index = ['Squirrel Hill South', 'East Liberty', 'Beechview', 'Allegheny Center', 'South Side Slopes', 'Sheraden', 'Hazelwood', 'Elliott', 'Beltzhoover','Squirrel Hill North','Mount Washington', 'Highland Park']\n",
    "numplay = [32, 26, 21, 15, 14, 13, 13,11,10,10,10,10]\n",
    "pop = [16042, 5537, 8078, 1411, 4583, 5684, 4257, 2491, 1702, 11336, 8743, 6810]\n",
    "#assigning neighborhoods the number of parks and the population of the neighborhoods.\n"
   ]
  },
  {
   "cell_type": "code",
   "execution_count": 6,
   "id": "3b2bb547-454d-48fb-aa7d-3afad252170b",
   "metadata": {},
   "outputs": [
    {
     "data": {
      "text/plain": [
       "<AxesSubplot:>"
      ]
     },
     "execution_count": 6,
     "metadata": {},
     "output_type": "execute_result"
    },
    {
     "data": {
      "image/png": "[encoded data removed]",
      "text/plain": [
       "<Figure size 432x288 with 1 Axes>"
      ]
     },
     "metadata": {
      "needs_background": "light"
     },
     "output_type": "display_data"
    }
   ],
   "source": [
    "goodones = pd.DataFrame({'Playgrounds': numplay}, index=index) \n",
    "goodones.plot.bar()\n",
    "#displaying the neighborhoods"
   ]
  },
  {
   "cell_type": "code",
   "execution_count": 35,
   "id": "3f5be586-d4d4-489a-96c3-86f1ffb517d1",
   "metadata": {},
   "outputs": [
    {
     "data": {
      "text/plain": [
       "<AxesSubplot:>"
      ]
     },
     "execution_count": 35,
     "metadata": {},
     "output_type": "execute_result"
    },
    {
     "data": {
      "image/png": "[encoded data removed]",
      "text/plain": [
       "<Figure size 432x288 with 1 Axes>"
      ]
     },
     "metadata": {
      "needs_background": "light"
     },
     "output_type": "display_data"
    }
   ],
   "source": [
    "diffones = pd.DataFrame({'Population': pop}, index=index) \n",
    "diffones.plot.bar()\n",
    "#Display the populations of the neighborhoods with above 10 parks"
   ]
  },
  {
   "cell_type": "code",
   "execution_count": 7,
   "id": "3c8056ba-1435-4873-b61f-80836ace5f41",
   "metadata": {},
   "outputs": [],
   "source": [
    "pplpark = [16042/32, 5537/26, 8078/21, 1411/15, 4583/14, 5684/13, 4257/13, 2491/11, 1703/10, 11336/10, 8743/10, 6810/10]\n",
    "#finding how many people there are in each neighborhood for each park."
   ]
  },
  {
   "cell_type": "code",
   "execution_count": 38,
   "id": "6d848e7d-ca0e-494e-8a30-7ad86d8bc6f1",
   "metadata": {},
   "outputs": [
    {
     "data": {
      "text/plain": [
       "<AxesSubplot:>"
      ]
     },
     "execution_count": 38,
     "metadata": {},
     "output_type": "execute_result"
    },
    {
     "data": {
      "image/png": "[encoded data removed]",
      "text/plain": [
       "<Figure size 432x288 with 1 Axes>"
      ]
     },
     "metadata": {
      "needs_background": "light"
     },
     "output_type": "display_data"
    }
   ],
   "source": [
    "bestones = pd.DataFrame({'Population per park': pplpark}, index=index) \n",
    "bestones.plot.bar()\n",
    "#Show the population per park of the qualified neighborhoods"
   ]
  },
  {
   "cell_type": "markdown",
   "id": "d1dde5ef-873b-4e24-832b-bd7bf71cdc9d",
   "metadata": {},
   "source": [
    "# Best Neighborhood\n",
    "\n",
    "I like parks that have some people but aren't overcrowded so I think that Squirrel Hill South is the best because it isn't too busy but it also isn't empty."
   ]
  }
 ],
 "metadata": {
  "kernelspec": {
   "display_name": "Python 3",
   "language": "python",
   "name": "python3"
  },
  "language_info": {
   "codemirror_mode": {
    "name": "ipython",
    "version": 3
   },
   "file_extension": ".py",
   "mimetype": "text/x-python",
   "name": "python",
   "nbconvert_exporter": "python",
   "pygments_lexer": "ipython3",
   "version": "3.8.8"
  }
 },
 "nbformat": 4,
 "nbformat_minor": 5
}
